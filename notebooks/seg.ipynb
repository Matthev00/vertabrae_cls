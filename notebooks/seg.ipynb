{
 "cells": [
  {
   "cell_type": "code",
   "execution_count": 1,
   "metadata": {},
   "outputs": [],
   "source": [
    "from huggingface_hub import snapshot_download"
   ]
  },
  {
   "cell_type": "code",
   "execution_count": 2,
   "metadata": {},
   "outputs": [
    {
     "data": {
      "application/vnd.jupyter.widget-view+json": {
       "model_id": "e6ca189249a8490e960256a039f6c67e",
       "version_major": 2,
       "version_minor": 0
      },
      "text/plain": [
       "Fetching 14 files:   0%|          | 0/14 [00:00<?, ?it/s]"
      ]
     },
     "metadata": {},
     "output_type": "display_data"
    },
    {
     "name": "stdout",
     "output_type": "stream",
     "text": [
      "📥 Model pobrany do: /home/mateusz/PW/INZ/vertabrae_cls/models/monai_seg\n"
     ]
    }
   ],
   "source": [
    "model_dir = snapshot_download(repo_id=\"MONAI/wholeBody_ct_segmentation\", local_dir=\"../models/monai_seg\")\n",
    "print(\"📥 Model pobrany do:\", model_dir)"
   ]
  },
  {
   "cell_type": "code",
   "execution_count": 3,
   "metadata": {},
   "outputs": [
    {
     "data": {
      "text/plain": [
       "SegResNet(\n",
       "  (act_mod): ReLU(inplace=True)\n",
       "  (convInit): Convolution(\n",
       "    (conv): Conv3d(1, 32, kernel_size=(3, 3, 3), stride=(1, 1, 1), padding=(1, 1, 1), bias=False)\n",
       "  )\n",
       "  (down_layers): ModuleList(\n",
       "    (0): Sequential(\n",
       "      (0): Identity()\n",
       "      (1): ResBlock(\n",
       "        (norm1): GroupNorm(8, 32, eps=1e-05, affine=True)\n",
       "        (norm2): GroupNorm(8, 32, eps=1e-05, affine=True)\n",
       "        (act): ReLU(inplace=True)\n",
       "        (conv1): Convolution(\n",
       "          (conv): Conv3d(32, 32, kernel_size=(3, 3, 3), stride=(1, 1, 1), padding=(1, 1, 1), bias=False)\n",
       "        )\n",
       "        (conv2): Convolution(\n",
       "          (conv): Conv3d(32, 32, kernel_size=(3, 3, 3), stride=(1, 1, 1), padding=(1, 1, 1), bias=False)\n",
       "        )\n",
       "      )\n",
       "    )\n",
       "    (1): Sequential(\n",
       "      (0): Convolution(\n",
       "        (conv): Conv3d(32, 64, kernel_size=(3, 3, 3), stride=(2, 2, 2), padding=(1, 1, 1), bias=False)\n",
       "      )\n",
       "      (1): ResBlock(\n",
       "        (norm1): GroupNorm(8, 64, eps=1e-05, affine=True)\n",
       "        (norm2): GroupNorm(8, 64, eps=1e-05, affine=True)\n",
       "        (act): ReLU(inplace=True)\n",
       "        (conv1): Convolution(\n",
       "          (conv): Conv3d(64, 64, kernel_size=(3, 3, 3), stride=(1, 1, 1), padding=(1, 1, 1), bias=False)\n",
       "        )\n",
       "        (conv2): Convolution(\n",
       "          (conv): Conv3d(64, 64, kernel_size=(3, 3, 3), stride=(1, 1, 1), padding=(1, 1, 1), bias=False)\n",
       "        )\n",
       "      )\n",
       "      (2): ResBlock(\n",
       "        (norm1): GroupNorm(8, 64, eps=1e-05, affine=True)\n",
       "        (norm2): GroupNorm(8, 64, eps=1e-05, affine=True)\n",
       "        (act): ReLU(inplace=True)\n",
       "        (conv1): Convolution(\n",
       "          (conv): Conv3d(64, 64, kernel_size=(3, 3, 3), stride=(1, 1, 1), padding=(1, 1, 1), bias=False)\n",
       "        )\n",
       "        (conv2): Convolution(\n",
       "          (conv): Conv3d(64, 64, kernel_size=(3, 3, 3), stride=(1, 1, 1), padding=(1, 1, 1), bias=False)\n",
       "        )\n",
       "      )\n",
       "    )\n",
       "    (2): Sequential(\n",
       "      (0): Convolution(\n",
       "        (conv): Conv3d(64, 128, kernel_size=(3, 3, 3), stride=(2, 2, 2), padding=(1, 1, 1), bias=False)\n",
       "      )\n",
       "      (1): ResBlock(\n",
       "        (norm1): GroupNorm(8, 128, eps=1e-05, affine=True)\n",
       "        (norm2): GroupNorm(8, 128, eps=1e-05, affine=True)\n",
       "        (act): ReLU(inplace=True)\n",
       "        (conv1): Convolution(\n",
       "          (conv): Conv3d(128, 128, kernel_size=(3, 3, 3), stride=(1, 1, 1), padding=(1, 1, 1), bias=False)\n",
       "        )\n",
       "        (conv2): Convolution(\n",
       "          (conv): Conv3d(128, 128, kernel_size=(3, 3, 3), stride=(1, 1, 1), padding=(1, 1, 1), bias=False)\n",
       "        )\n",
       "      )\n",
       "      (2): ResBlock(\n",
       "        (norm1): GroupNorm(8, 128, eps=1e-05, affine=True)\n",
       "        (norm2): GroupNorm(8, 128, eps=1e-05, affine=True)\n",
       "        (act): ReLU(inplace=True)\n",
       "        (conv1): Convolution(\n",
       "          (conv): Conv3d(128, 128, kernel_size=(3, 3, 3), stride=(1, 1, 1), padding=(1, 1, 1), bias=False)\n",
       "        )\n",
       "        (conv2): Convolution(\n",
       "          (conv): Conv3d(128, 128, kernel_size=(3, 3, 3), stride=(1, 1, 1), padding=(1, 1, 1), bias=False)\n",
       "        )\n",
       "      )\n",
       "    )\n",
       "    (3): Sequential(\n",
       "      (0): Convolution(\n",
       "        (conv): Conv3d(128, 256, kernel_size=(3, 3, 3), stride=(2, 2, 2), padding=(1, 1, 1), bias=False)\n",
       "      )\n",
       "      (1): ResBlock(\n",
       "        (norm1): GroupNorm(8, 256, eps=1e-05, affine=True)\n",
       "        (norm2): GroupNorm(8, 256, eps=1e-05, affine=True)\n",
       "        (act): ReLU(inplace=True)\n",
       "        (conv1): Convolution(\n",
       "          (conv): Conv3d(256, 256, kernel_size=(3, 3, 3), stride=(1, 1, 1), padding=(1, 1, 1), bias=False)\n",
       "        )\n",
       "        (conv2): Convolution(\n",
       "          (conv): Conv3d(256, 256, kernel_size=(3, 3, 3), stride=(1, 1, 1), padding=(1, 1, 1), bias=False)\n",
       "        )\n",
       "      )\n",
       "      (2): ResBlock(\n",
       "        (norm1): GroupNorm(8, 256, eps=1e-05, affine=True)\n",
       "        (norm2): GroupNorm(8, 256, eps=1e-05, affine=True)\n",
       "        (act): ReLU(inplace=True)\n",
       "        (conv1): Convolution(\n",
       "          (conv): Conv3d(256, 256, kernel_size=(3, 3, 3), stride=(1, 1, 1), padding=(1, 1, 1), bias=False)\n",
       "        )\n",
       "        (conv2): Convolution(\n",
       "          (conv): Conv3d(256, 256, kernel_size=(3, 3, 3), stride=(1, 1, 1), padding=(1, 1, 1), bias=False)\n",
       "        )\n",
       "      )\n",
       "      (3): ResBlock(\n",
       "        (norm1): GroupNorm(8, 256, eps=1e-05, affine=True)\n",
       "        (norm2): GroupNorm(8, 256, eps=1e-05, affine=True)\n",
       "        (act): ReLU(inplace=True)\n",
       "        (conv1): Convolution(\n",
       "          (conv): Conv3d(256, 256, kernel_size=(3, 3, 3), stride=(1, 1, 1), padding=(1, 1, 1), bias=False)\n",
       "        )\n",
       "        (conv2): Convolution(\n",
       "          (conv): Conv3d(256, 256, kernel_size=(3, 3, 3), stride=(1, 1, 1), padding=(1, 1, 1), bias=False)\n",
       "        )\n",
       "      )\n",
       "      (4): ResBlock(\n",
       "        (norm1): GroupNorm(8, 256, eps=1e-05, affine=True)\n",
       "        (norm2): GroupNorm(8, 256, eps=1e-05, affine=True)\n",
       "        (act): ReLU(inplace=True)\n",
       "        (conv1): Convolution(\n",
       "          (conv): Conv3d(256, 256, kernel_size=(3, 3, 3), stride=(1, 1, 1), padding=(1, 1, 1), bias=False)\n",
       "        )\n",
       "        (conv2): Convolution(\n",
       "          (conv): Conv3d(256, 256, kernel_size=(3, 3, 3), stride=(1, 1, 1), padding=(1, 1, 1), bias=False)\n",
       "        )\n",
       "      )\n",
       "    )\n",
       "  )\n",
       "  (up_layers): ModuleList(\n",
       "    (0): Sequential(\n",
       "      (0): ResBlock(\n",
       "        (norm1): GroupNorm(8, 128, eps=1e-05, affine=True)\n",
       "        (norm2): GroupNorm(8, 128, eps=1e-05, affine=True)\n",
       "        (act): ReLU(inplace=True)\n",
       "        (conv1): Convolution(\n",
       "          (conv): Conv3d(128, 128, kernel_size=(3, 3, 3), stride=(1, 1, 1), padding=(1, 1, 1), bias=False)\n",
       "        )\n",
       "        (conv2): Convolution(\n",
       "          (conv): Conv3d(128, 128, kernel_size=(3, 3, 3), stride=(1, 1, 1), padding=(1, 1, 1), bias=False)\n",
       "        )\n",
       "      )\n",
       "    )\n",
       "    (1): Sequential(\n",
       "      (0): ResBlock(\n",
       "        (norm1): GroupNorm(8, 64, eps=1e-05, affine=True)\n",
       "        (norm2): GroupNorm(8, 64, eps=1e-05, affine=True)\n",
       "        (act): ReLU(inplace=True)\n",
       "        (conv1): Convolution(\n",
       "          (conv): Conv3d(64, 64, kernel_size=(3, 3, 3), stride=(1, 1, 1), padding=(1, 1, 1), bias=False)\n",
       "        )\n",
       "        (conv2): Convolution(\n",
       "          (conv): Conv3d(64, 64, kernel_size=(3, 3, 3), stride=(1, 1, 1), padding=(1, 1, 1), bias=False)\n",
       "        )\n",
       "      )\n",
       "    )\n",
       "    (2): Sequential(\n",
       "      (0): ResBlock(\n",
       "        (norm1): GroupNorm(8, 32, eps=1e-05, affine=True)\n",
       "        (norm2): GroupNorm(8, 32, eps=1e-05, affine=True)\n",
       "        (act): ReLU(inplace=True)\n",
       "        (conv1): Convolution(\n",
       "          (conv): Conv3d(32, 32, kernel_size=(3, 3, 3), stride=(1, 1, 1), padding=(1, 1, 1), bias=False)\n",
       "        )\n",
       "        (conv2): Convolution(\n",
       "          (conv): Conv3d(32, 32, kernel_size=(3, 3, 3), stride=(1, 1, 1), padding=(1, 1, 1), bias=False)\n",
       "        )\n",
       "      )\n",
       "    )\n",
       "  )\n",
       "  (up_samples): ModuleList(\n",
       "    (0): Sequential(\n",
       "      (0): Convolution(\n",
       "        (conv): Conv3d(256, 128, kernel_size=(1, 1, 1), stride=(1, 1, 1), bias=False)\n",
       "      )\n",
       "      (1): UpSample(\n",
       "        (upsample_non_trainable): Upsample(scale_factor=(2.0, 2.0, 2.0), mode='trilinear')\n",
       "      )\n",
       "    )\n",
       "    (1): Sequential(\n",
       "      (0): Convolution(\n",
       "        (conv): Conv3d(128, 64, kernel_size=(1, 1, 1), stride=(1, 1, 1), bias=False)\n",
       "      )\n",
       "      (1): UpSample(\n",
       "        (upsample_non_trainable): Upsample(scale_factor=(2.0, 2.0, 2.0), mode='trilinear')\n",
       "      )\n",
       "    )\n",
       "    (2): Sequential(\n",
       "      (0): Convolution(\n",
       "        (conv): Conv3d(64, 32, kernel_size=(1, 1, 1), stride=(1, 1, 1), bias=False)\n",
       "      )\n",
       "      (1): UpSample(\n",
       "        (upsample_non_trainable): Upsample(scale_factor=(2.0, 2.0, 2.0), mode='trilinear')\n",
       "      )\n",
       "    )\n",
       "  )\n",
       "  (conv_final): Sequential(\n",
       "    (0): GroupNorm(8, 32, eps=1e-05, affine=True)\n",
       "    (1): ReLU(inplace=True)\n",
       "    (2): Convolution(\n",
       "      (conv): Conv3d(32, 105, kernel_size=(1, 1, 1), stride=(1, 1, 1))\n",
       "    )\n",
       "  )\n",
       "  (dropout): Dropout3d(p=0.2, inplace=False)\n",
       ")"
      ]
     },
     "execution_count": 3,
     "metadata": {},
     "output_type": "execute_result"
    }
   ],
   "source": [
    "import os\n",
    "import torch\n",
    "from monai.bundle import ConfigParser\n",
    "\n",
    "# Ścieżka do katalogu z pobranym modelem MONAI Bundle\n",
    "model_dir = \"../models/monai_seg\"\n",
    "model_file = \"models/model.pt\"  # zakładamy, że w folderze models jest plik model.pt\n",
    "\n",
    "# Wczytanie konfiguracji inferencji z bundle (określa m.in. architekturę sieci i transformacje)\n",
    "config_path = os.path.join(model_dir, \"configs\", \"inference.json\")\n",
    "parser = ConfigParser()\n",
    "parser.read_config(config_path)\n",
    "\n",
    "# Utworzenie modelu zgodnie z konfiguracją (znalezienie definicji sieci w configu)\n",
    "model = parser.get_parsed_content(\"network_def\")\n",
    "# Załadowanie wag modelu\n",
    "weights = torch.load(os.path.join(model_dir, model_file), map_location=\"cpu\")\n",
    "# Jeśli wagi są zapisane pod kluczem \"state_dict\", wyciągnij go:\n",
    "if isinstance(weights, dict) and \"state_dict\" in weights:\n",
    "    weights = weights[\"state_dict\"]\n",
    "model.load_state_dict(weights)\n",
    "model.eval()\n"
   ]
  },
  {
   "cell_type": "code",
   "execution_count": 4,
   "metadata": {},
   "outputs": [
    {
     "name": "stdout",
     "output_type": "stream",
     "text": [
      "Rozmiar modelu: 71.71402359008789 MB\n"
     ]
    }
   ],
   "source": [
    "param_size = 0\n",
    "for param in model.parameters():\n",
    "    param_size += param.numel() * param.element_size()\n",
    "print(\"Rozmiar modelu:\", param_size / 1024 / 1024, \"MB\")"
   ]
  },
  {
   "cell_type": "code",
   "execution_count": 5,
   "metadata": {},
   "outputs": [
    {
     "name": "stdout",
     "output_type": "stream",
     "text": [
      "Błąd wczytywania DICOM z folderu /media/mateusz/DATA/downloads/inz/RM M 40: Nie znaleziono serii DICOM w folderze: /media/mateusz/DATA/downloads/inz/RM M 40\n",
      "Wczytano tensor o kształcie: torch.Size([2, 1228, 512]) dla serii:  z folderu: /media/mateusz/DATA/downloads/inz/RM M 40/S1000\n",
      "Metadane: {'spacing': (0.9765625, 0.9765625, 353.5533905932738), 'direction': (0.0, 0.0, -1.0, 1.0, 0.0, 0.0, 0.0, -1.0, 0.0), 'origin': (0.0, -160.0, 1199.31875)}\n"
     ]
    },
    {
     "name": "stderr",
     "output_type": "stream",
     "text": [
      "WARNING: In /tmp/SimpleITK-build/ITK/Modules/IO/GDCM/src/itkGDCMSeriesFileNames.cxx, line 114\n",
      "GDCMSeriesFileNames (0x624aca182650): No Series can be found, make sure your restrictions are not too strong\n",
      "\n"
     ]
    },
    {
     "name": "stdout",
     "output_type": "stream",
     "text": [
      "Wczytano tensor o kształcie: torch.Size([249, 512, 512]) dla serii: GLOWA PRZEGLAD, iDose (4)  z folderu: /media/mateusz/DATA/downloads/inz/RM M 40/S2010\n",
      "Metadane: {'spacing': (0.486328125, 0.486328125, 0.7499999999999996), 'direction': (1.0, 0.0, 0.0, 0.0, 1.0, 0.0, 0.0, 0.0, 1.0), 'origin': (-109.56, -61.392, 974.61)}\n",
      "Wczytano tensor o kształcie: torch.Size([374, 512, 512]) dla serii: GLOWA KOSCI, iDose (4) z folderu: /media/mateusz/DATA/downloads/inz/RM M 40/S2020\n",
      "Metadane: {'spacing': (0.486328125, 0.486328125, 0.4999999999999997), 'direction': (1.0, 0.0, 0.0, 0.0, 1.0, 0.0, 0.0, 0.0, 1.0), 'origin': (-109.56, -61.392, 974.36)}\n",
      "Wczytano tensor o kształcie: torch.Size([411, 512, 512]) dla serii: SZYJNY KOSCI, iDose (4)  z folderu: /media/mateusz/DATA/downloads/inz/RM M 40/S2030\n",
      "Metadane: {'spacing': (0.474609375, 0.474609375, 0.5), 'direction': (1.0, 0.0, 0.0, 0.0, 1.0, 0.0, 0.0, 0.0, 1.0), 'origin': (-106.434, -71.595, 848.76)}\n",
      "Wczytano tensor o kształcie: torch.Size([273, 512, 512]) dla serii: SZYJNY PRZEGLAD  z folderu: /media/mateusz/DATA/downloads/inz/RM M 40/S2040\n",
      "Metadane: {'spacing': (0.474609375, 0.474609375, 0.75), 'direction': (1.0, 0.0, 0.0, 0.0, 1.0, 0.0, 0.0, 0.0, 1.0), 'origin': (-104.49, -71.595, 849.01)}\n",
      "Wczytano tensor o kształcie: torch.Size([237, 512, 512]) dla serii: TWAR PRZEL z folderu: /media/mateusz/DATA/downloads/inz/RM M 40/S2050\n",
      "Metadane: {'spacing': (0.431640625, 0.431640625, 0.7500000000000004), 'direction': (1.0, 0.0, 0.0, 0.0, 1.0, 0.0, 0.0, 0.0, 1.0), 'origin': (-113.594, -105.585, 966.42)}\n",
      "Wczytano tensor o kształcie: torch.Size([356, 512, 512]) dla serii: TWARZOCZASZKA KO, iDose (4)  z folderu: /media/mateusz/DATA/downloads/inz/RM M 40/S2060\n",
      "Metadane: {'spacing': (0.431640625, 0.431640625, 0.5000000000000003), 'direction': (1.0, 0.0, 0.0, 0.0, 1.0, 0.0, 0.0, 0.0, 1.0), 'origin': (-113.594, -105.585, 966.17)}\n",
      "Wczytano tensor o kształcie: torch.Size([97, 512, 512]) dla serii: TWARZOCZASZKA KO, iDose (4)  z folderu: /media/mateusz/DATA/downloads/inz/RM M 40/S3020\n",
      "Metadane: {'spacing': (0.544921875, 0.544921875, 0.5), 'direction': (1.0, 0.0, 0.0, 0.0, 1.0, 0.0, 0.0, 0.0, 1.0), 'origin': (-142.569, -134.595, 966.17)}\n",
      "Wybrano tensor dla serii: SZYJNY KOSCI, iDose (4)  (priorytet: kosci)\n",
      "Kształt wybranego tensora: torch.Size([411, 512, 512])\n",
      "Metadane wybranego tensora: {'spacing': (0.474609375, 0.474609375, 0.5), 'direction': (1.0, 0.0, 0.0, 0.0, 1.0, 0.0, 0.0, 0.0, 1.0), 'origin': (-106.434, -71.595, 848.76)}\n"
     ]
    }
   ],
   "source": [
    "import os\n",
    "import SimpleITK as sitk\n",
    "import numpy as np\n",
    "import torch  # lub import tensorflow as tf\n",
    "\n",
    "def load_dicom_series_with_metadata(dicom_dir):\n",
    "    \"\"\"\n",
    "    Wczytuje serię DICOM z folderu, zwraca tensor, opis serii oraz metadane.\n",
    "    \"\"\"\n",
    "    # Znajdź wszystkie pliki DICOM w folderze\n",
    "    reader = sitk.ImageSeriesReader()\n",
    "    dicom_series = reader.GetGDCMSeriesFileNames(dicom_dir)\n",
    "    if not dicom_series:\n",
    "        raise ValueError(f\"Nie znaleziono serii DICOM w folderze: {dicom_dir}\")\n",
    "    reader.SetFileNames(dicom_series)\n",
    "\n",
    "    # Wczytaj serię DICOM jako obraz 3D\n",
    "    image = reader.Execute()\n",
    "\n",
    "    # Przekształć na NumPy array\n",
    "    image_array = sitk.GetArrayFromImage(image)  # Shape: (z, y, x)\n",
    "\n",
    "    # Konwersja na tensor (PyTorch)\n",
    "    tensor = torch.tensor(image_array, dtype=torch.float32)  # Shape: (z, y, x)\n",
    "\n",
    "    # Pobierz metadane z obrazu\n",
    "    spacing = image.GetSpacing()  # Rozdzielczość voxelowa (x, y, z)\n",
    "    direction = image.GetDirection()  # Orientacja\n",
    "    origin = image.GetOrigin()  # Początek układu współrzędnych\n",
    "\n",
    "    # Pobierz opis serii z pierwszego pliku\n",
    "    first_file = dicom_series[0]\n",
    "    file_reader = sitk.ImageFileReader()\n",
    "    file_reader.SetFileName(first_file)\n",
    "    file_reader.ReadImageInformation()\n",
    "    series_description = file_reader.GetMetaData(\"0008|103e\") if file_reader.HasMetaDataKey(\"0008|103e\") else \"Unknown\"\n",
    "\n",
    "    # Zwróć tensor, opis serii i metadane\n",
    "    metadata = {\n",
    "        \"spacing\": spacing,\n",
    "        \"direction\": direction,\n",
    "        \"origin\": origin\n",
    "    }\n",
    "    return tensor, series_description, metadata\n",
    "\n",
    "# Przykład użycia\n",
    "dicom_root_folder = \"/media/mateusz/DATA/downloads/inz/RM M 40\"\n",
    "series_tensors = {}\n",
    "\n",
    "for root, dirs, files in os.walk(dicom_root_folder):\n",
    "    if files:  # Jeśli folder zawiera pliki\n",
    "        try:\n",
    "            tensor, series_description, metadata = load_dicom_series_with_metadata(root)\n",
    "            series_tensors[series_description] = {\"tensor\": tensor, \"metadata\": metadata}\n",
    "            print(f\"Wczytano tensor o kształcie: {tensor.shape} dla serii: {series_description} z folderu: {root}\")\n",
    "            print(f\"Metadane: {metadata}\")\n",
    "        except Exception as e:\n",
    "            print(f\"Błąd wczytywania DICOM z folderu {root}: {e}\")\n",
    "\n",
    "# Wybierz tensor zgodnie z priorytetami\n",
    "selected_tensor = None\n",
    "selected_description = None\n",
    "selected_metadata = None\n",
    "\n",
    "# 1. Szukaj serii \"kosci\"\n",
    "for series_description, data in series_tensors.items():\n",
    "    if \"szyjny kosci\" in series_description.lower():\n",
    "        selected_tensor = data[\"tensor\"]\n",
    "        selected_metadata = data[\"metadata\"]\n",
    "        selected_description = series_description\n",
    "        print(f\"Wybrano tensor dla serii: {series_description} (priorytet: kosci)\")\n",
    "        break\n",
    "\n",
    "# 2. Jeśli nie znaleziono \"kosci\", szukaj \"miekkie\"\n",
    "if selected_tensor is None:\n",
    "    for series_description, data in series_tensors.items():\n",
    "        if \"miekkie\" in series_description.lower():\n",
    "            selected_tensor = data[\"tensor\"]\n",
    "            selected_metadata = data[\"metadata\"]\n",
    "            selected_description = series_description\n",
    "            print(f\"Wybrano tensor dla serii: {series_description} (priorytet: miekkie)\")\n",
    "            break\n",
    "\n",
    "# 3. Jeśli nie znaleziono \"kosci\" ani \"miekkie\", wybierz największy tensor\n",
    "if selected_tensor is None:\n",
    "    max_size = 0\n",
    "    for series_description, data in series_tensors.items():\n",
    "        tensor_size = data[\"tensor\"].numel()  # Liczba elementów w tensorze\n",
    "        if tensor_size > max_size:\n",
    "            max_size = tensor_size\n",
    "            selected_tensor = data[\"tensor\"]\n",
    "            selected_metadata = data[\"metadata\"]\n",
    "            selected_description = series_description\n",
    "    if selected_tensor is not None:\n",
    "        print(f\"Wybrano największy tensor dla serii: {selected_description} (rozmiar: {max_size})\")\n",
    "\n",
    "# Sprawdź, czy wybrano tensor\n",
    "if selected_tensor is None:\n",
    "    print(\"Nie znaleziono odpowiedniego tensora.\")\n",
    "else:\n",
    "    print(f\"Kształt wybranego tensora: {selected_tensor.shape}\")\n",
    "    print(f\"Metadane wybranego tensora: {selected_metadata}\")"
   ]
  },
  {
   "cell_type": "code",
   "execution_count": 6,
   "metadata": {},
   "outputs": [
    {
     "data": {
      "text/plain": [
       "torch.Size([411, 512, 512])"
      ]
     },
     "execution_count": 6,
     "metadata": {},
     "output_type": "execute_result"
    }
   ],
   "source": [
    "selected_tensor.shape"
   ]
  },
  {
   "cell_type": "code",
   "execution_count": 7,
   "metadata": {},
   "outputs": [],
   "source": [
    "from monai.transforms import ScaleIntensityRanged, Compose, LoadImaged, EnsureChannelFirstd, Spacingd, Orientationd, NormalizeIntensityd, EnsureTyped, ScaleIntensityd\n",
    "\n",
    "# Definicja transformacji\n",
    "transforms = Compose([\n",
    "    LoadImaged(keys=[\"image\"]),  # Ładowanie obrazu\n",
    "    EnsureTyped(keys=[\"image\"]),  # Konwersja na typ zgodny z PyTorch/NumPy\n",
    "    EnsureChannelFirstd(keys=[\"image\"]),  # Upewnienie się, że kanały są na pierwszej osi\n",
    "    Orientationd(keys=[\"image\"], axcodes=\"RAS\"),  # Ustawienie orientacji na RAS\n",
    "    Spacingd(keys=[\"image\"], pixdim=(1.5, 1.5, 1.5), mode=\"bilinear\"),  # Resampling do zadanych wymiarów voxelowych\n",
    "    NormalizeIntensityd(keys=[\"image\"], nonzero=True),  # Normalizacja intensywności na podstawie wartości niezerowych\n",
    "    ScaleIntensityd(keys=[\"image\"], minv=-1.0, maxv=1.0)  # Skalowanie intensywności do zakresu [-1.0, 1.0]\n",
    "])"
   ]
  },
  {
   "cell_type": "code",
   "execution_count": 8,
   "metadata": {},
   "outputs": [],
   "source": [
    "def save_tensor_as_nrrd(tensor, file_path, metadata):\n",
    "    \"\"\"\n",
    "    Zapisuje tensor jako plik NRRD z metadanymi.\n",
    "    \n",
    "    Args:\n",
    "        tensor (torch.Tensor): Tensor do zapisania.\n",
    "        file_path (str): Ścieżka do pliku wyjściowego (powinna kończyć się na .nrrd).\n",
    "        metadata (dict): Metadane obrazu, zawierające klucze: 'spacing', 'direction', 'origin'.\n",
    "    \"\"\"\n",
    "    # Konwersja tensora na NumPy array\n",
    "    array = tensor.numpy()  # Shape: (z, y, x)\n",
    "    \n",
    "    # Konwersja NumPy array na SimpleITK Image\n",
    "    image = sitk.GetImageFromArray(array)  # SimpleITK interpretuje dane jako (z, y, x)\n",
    "    \n",
    "    # Ustaw metadane\n",
    "    if \"spacing\" in metadata:\n",
    "        image.SetSpacing(metadata[\"spacing\"])  # Rozdzielczość voxelowa (x, y, z)\n",
    "    if \"direction\" in metadata:\n",
    "        image.SetDirection(metadata[\"direction\"])  # Orientacja\n",
    "    if \"origin\" in metadata:\n",
    "        image.SetOrigin(metadata[\"origin\"])  # Początek układu współrzędnych\n",
    "    \n",
    "    # Zapis do pliku NRRD\n",
    "    sitk.WriteImage(image, file_path)\n",
    "    print(f\"Tensor zapisany jako NRRD z metadanymi: {file_path}\")"
   ]
  },
  {
   "cell_type": "code",
   "execution_count": 9,
   "metadata": {},
   "outputs": [],
   "source": [
    "import tempfile"
   ]
  },
  {
   "cell_type": "code",
   "execution_count": 10,
   "metadata": {},
   "outputs": [
    {
     "name": "stdout",
     "output_type": "stream",
     "text": [
      "Tensor zapisany jako NRRD z metadanymi: /media/mateusz/DATA/tmp/tmph04vw1g_/output.nrrd\n",
      "Tensor zapisany jako plik tymczasowy: /media/mateusz/DATA/tmp/tmph04vw1g_/output.nrrd\n"
     ]
    }
   ],
   "source": [
    "with tempfile.TemporaryDirectory() as temp_dir:\n",
    "    temp_file = os.path.join(temp_dir, \"output.nrrd\")\n",
    "    \n",
    "    # Zapisz tensor jako plik NIfTI\n",
    "    save_tensor_as_nrrd(selected_tensor, temp_file, selected_metadata)\n",
    "    print(f\"Tensor zapisany jako plik tymczasowy: {temp_file}\")\n",
    "    \n",
    "    # Przygotuj dane wejściowe dla transformacji\n",
    "    data = {\"image\": temp_file}\n",
    "    \n",
    "    # Zastosuj transformacje\n",
    "\n",
    "    transformed_data = transforms(data)\n",
    "    transformed_tensor = transformed_data[\"image\"]\n"
   ]
  },
  {
   "cell_type": "code",
   "execution_count": 11,
   "metadata": {},
   "outputs": [
    {
     "data": {
      "text/plain": [
       "torch.Size([1, 163, 163, 138])"
      ]
     },
     "execution_count": 11,
     "metadata": {},
     "output_type": "execute_result"
    }
   ],
   "source": [
    "transformed_tensor.shape"
   ]
  },
  {
   "cell_type": "code",
   "execution_count": 12,
   "metadata": {},
   "outputs": [],
   "source": [
    "input_tensor = transformed_tensor.unsqueeze(0).to(\"cpu\")  # Dodaj wymiar wsadu"
   ]
  },
  {
   "cell_type": "code",
   "execution_count": 13,
   "metadata": {},
   "outputs": [],
   "source": [
    "from monai.inferers import sliding_window_inference\n",
    "\n",
    "model.eval().to(\"cpu\")\n",
    "with torch.no_grad():\n",
    "    output = sliding_window_inference(\n",
    "        inputs=input_tensor,\n",
    "        roi_size=(96, 96, 96),  \n",
    "        sw_batch_size=1,\n",
    "        predictor=model,\n",
    "        overlap=0.5,\n",
    "        mode=\"gaussian\"\n",
    "    )"
   ]
  },
  {
   "cell_type": "code",
   "execution_count": 14,
   "metadata": {},
   "outputs": [
    {
     "name": "stdout",
     "output_type": "stream",
     "text": [
      "Label  0: 3383701 voxeli\n",
      "Label 50: 85584 voxeli\n",
      "Label 15: 26625 voxeli\n",
      "Label 13: 25004 voxeli\n",
      "Label 85: 17594 voxeli\n",
      "Label 101: 17285 voxeli\n",
      "Label 100: 15126 voxeli\n",
      "Label 87: 9231 voxeli\n",
      "Label 33: 8267 voxeli\n",
      "Label 34: 8199 voxeli\n",
      "Label 32: 6330 voxeli\n",
      "Label 35: 5832 voxeli\n",
      "Label 40: 5786 voxeli\n",
      "Label 43: 5176 voxeli\n",
      "Label 86: 4897 voxeli\n",
      "Label 36: 4609 voxeli\n",
      "Label 84: 4388 voxeli\n",
      "Label 37: 4370 voxeli\n",
      "Label 38: 3820 voxeli\n",
      "Label 41: 3613 voxeli\n",
      "Label 39: 3297 voxeli\n",
      "Label 42: 3059 voxeli\n",
      "Label 71: 2578 voxeli\n",
      "Label 59: 2493 voxeli\n",
      "Label 70: 2108 voxeli\n",
      "Label 58: 2011 voxeli\n",
      "Label 72: 1933 voxeli\n",
      "Label 60: 1757 voxeli\n",
      "Label 73: 898 voxeli\n",
      "Label 31: 530 voxeli\n",
      "Label 61: 276 voxeli\n",
      "Label 93: 100 voxeli\n",
      "Label 83: 32 voxeli\n",
      "Label 74: 8 voxeli\n",
      "Label 28: 4 voxeli\n",
      "Label 21: 1 voxeli\n"
     ]
    }
   ],
   "source": [
    "segmentation = output.argmax(dim=1).squeeze().cpu().numpy()  # shape: (D, H, W)\n",
    "\n",
    "# Policz unikalne etykiety i ile ich jest\n",
    "labels, counts = np.unique(segmentation, return_counts=True)\n",
    "\n",
    "# Pokaż w formie słownika\n",
    "label_counts = dict(zip(labels, counts))\n",
    "\n",
    "# Posortowane i wypisane\n",
    "for label, count in sorted(label_counts.items(), key=lambda x: -x[1]):\n",
    "    print(f\"Label {label:>2}: {count} voxeli\")"
   ]
  },
  {
   "cell_type": "code",
   "execution_count": 15,
   "metadata": {},
   "outputs": [
    {
     "data": {
      "text/plain": [
       "torch.Size([1, 105, 163, 163, 138])"
      ]
     },
     "execution_count": 15,
     "metadata": {},
     "output_type": "execute_result"
    }
   ],
   "source": [
    "output.shape"
   ]
  },
  {
   "cell_type": "code",
   "execution_count": 16,
   "metadata": {},
   "outputs": [
    {
     "data": {
      "image/png": "[encoded data removed]",
      "text/plain": [
       "<Figure size 640x480 with 1 Axes>"
      ]
     },
     "metadata": {},
     "output_type": "display_data"
    }
   ],
   "source": [
    "import matplotlib.pyplot as plt\n",
    "\n",
    "# Załóżmy że output ma kształt (1, C, D, H, W)\n",
    "output_np = output.argmax(dim=1).squeeze().cpu().numpy()  # (D, H, W)\n",
    "\n",
    "z = output_np.shape[2] // 2  # środkowy slice\n",
    "\n",
    "plt.imshow(output_np[:, :, z], cmap=\"nipy_spectral\")\n",
    "plt.title(f\"Segmentacja - slice {z}\")\n",
    "plt.axis(\"off\")\n",
    "plt.show()"
   ]
  },
  {
   "cell_type": "code",
   "execution_count": 17,
   "metadata": {},
   "outputs": [],
   "source": [
    "VERTEBRAE_MAP = {\n",
    "    \"L5\": 18,\n",
    "    \"L4\": 19,\n",
    "    \"L3\": 20,\n",
    "    \"L2\": 21,\n",
    "    \"L1\": 22,\n",
    "    \"Th12\": 23,\n",
    "    \"Th11\": 24,\n",
    "    \"Th10\": 25,\n",
    "    \"Th9\": 26,\n",
    "    \"Th8\": 27,\n",
    "    \"Th7\": 28,\n",
    "    \"Th6\": 29,\n",
    "    \"Th5\": 30,\n",
    "    \"Th4\": 31,\n",
    "    \"Th3\": 32,\n",
    "    \"Th2\": 33,\n",
    "    \"Th1\": 34,\n",
    "    \"C7\": 35,\n",
    "    \"C6\": 36,\n",
    "    \"C5\": 37,\n",
    "    \"C4\": 38,\n",
    "    \"C3\": 39,\n",
    "    \"C2\": 40,\n",
    "    \"C1\": 41,\n",
    "}"
   ]
  },
  {
   "cell_type": "code",
   "execution_count": 22,
   "metadata": {},
   "outputs": [],
   "source": [
    "target_vertebrae = \"Th9\"\n",
    "target_size = (64, 64, 64)"
   ]
  },
  {
   "cell_type": "code",
   "execution_count": 23,
   "metadata": {},
   "outputs": [
    {
     "name": "stdout",
     "output_type": "stream",
     "text": [
      "No vertebrae found in the segmentation.\n"
     ]
    },
    {
     "ename": "ValueError",
     "evalue": "zero-size array to reduction operation minimum which has no identity",
     "output_type": "error",
     "traceback": [
      "\u001b[31m---------------------------------------------------------------------------\u001b[39m",
      "\u001b[31mValueError\u001b[39m                                Traceback (most recent call last)",
      "\u001b[36mCell\u001b[39m\u001b[36m \u001b[39m\u001b[32mIn[23]\u001b[39m\u001b[32m, line 15\u001b[39m\n\u001b[32m     12\u001b[39m \u001b[38;5;28;01mif\u001b[39;00m coords.shape[\u001b[32m1\u001b[39m] == \u001b[32m0\u001b[39m:\n\u001b[32m     13\u001b[39m     \u001b[38;5;28mprint\u001b[39m(\u001b[33m\"\u001b[39m\u001b[33mNo vertebrae found in the segmentation.\u001b[39m\u001b[33m\"\u001b[39m)\n\u001b[32m---> \u001b[39m\u001b[32m15\u001b[39m zmin, ymin, xmin = \u001b[43mcoords\u001b[49m\u001b[43m.\u001b[49m\u001b[43mmin\u001b[49m\u001b[43m(\u001b[49m\u001b[43maxis\u001b[49m\u001b[43m=\u001b[49m\u001b[32;43m1\u001b[39;49m\u001b[43m)\u001b[49m\n\u001b[32m     16\u001b[39m zmax, ymax, xmax = coords.max(axis=\u001b[32m1\u001b[39m)\n",
      "\u001b[36mFile \u001b[39m\u001b[32m~/PW/INZ/vertabrae_cls/.venv/lib/python3.13/site-packages/numpy/core/_methods.py:45\u001b[39m, in \u001b[36m_amin\u001b[39m\u001b[34m(a, axis, out, keepdims, initial, where)\u001b[39m\n\u001b[32m     43\u001b[39m \u001b[38;5;28;01mdef\u001b[39;00m\u001b[38;5;250m \u001b[39m\u001b[34m_amin\u001b[39m(a, axis=\u001b[38;5;28;01mNone\u001b[39;00m, out=\u001b[38;5;28;01mNone\u001b[39;00m, keepdims=\u001b[38;5;28;01mFalse\u001b[39;00m,\n\u001b[32m     44\u001b[39m           initial=_NoValue, where=\u001b[38;5;28;01mTrue\u001b[39;00m):\n\u001b[32m---> \u001b[39m\u001b[32m45\u001b[39m     \u001b[38;5;28;01mreturn\u001b[39;00m \u001b[43mumr_minimum\u001b[49m\u001b[43m(\u001b[49m\u001b[43ma\u001b[49m\u001b[43m,\u001b[49m\u001b[43m \u001b[49m\u001b[43maxis\u001b[49m\u001b[43m,\u001b[49m\u001b[43m \u001b[49m\u001b[38;5;28;43;01mNone\u001b[39;49;00m\u001b[43m,\u001b[49m\u001b[43m \u001b[49m\u001b[43mout\u001b[49m\u001b[43m,\u001b[49m\u001b[43m \u001b[49m\u001b[43mkeepdims\u001b[49m\u001b[43m,\u001b[49m\u001b[43m \u001b[49m\u001b[43minitial\u001b[49m\u001b[43m,\u001b[49m\u001b[43m \u001b[49m\u001b[43mwhere\u001b[49m\u001b[43m)\u001b[49m\n",
      "\u001b[31mValueError\u001b[39m: zero-size array to reduction operation minimum which has no identity"
     ]
    }
   ],
   "source": [
    "target_label = VERTEBRAE_MAP.get(target_vertebrae)\n",
    "if target_label is None:\n",
    "    raise ValueError(f\"Invalid target vertebrae: {target_vertebrae}\")\n",
    "\n",
    "labels = [target_label]\n",
    "if target_size is None:\n",
    "    labels.extend([max(18, target_label - 1), min(41, target_label + 1)])\n",
    "\n",
    "mask = np.isin(segmentation, labels).astype(np.uint8)\n",
    "\n",
    "coords = np.array(mask.nonzero())\n",
    "if coords.shape[1] == 0:\n",
    "    print(\"No vertebrae found in the segmentation.\")\n",
    "\n",
    "zmin, ymin, xmin = coords.min(axis=1)\n",
    "zmax, ymax, xmax = coords.max(axis=1)\n"
   ]
  },
  {
   "cell_type": "code",
   "execution_count": 24,
   "metadata": {},
   "outputs": [
    {
     "data": {
      "text/plain": [
       "[26]"
      ]
     },
     "execution_count": 24,
     "metadata": {},
     "output_type": "execute_result"
    }
   ],
   "source": [
    "labels"
   ]
  },
  {
   "cell_type": "code",
   "execution_count": null,
   "metadata": {},
   "outputs": [],
   "source": [
    "target_coords = np.array((coords.max(axis=1) + coords.min(axis=1)) // 2)\n",
    "z_center, y_center, x_center = target_coords\n",
    "\n",
    "z_half, y_half, x_half = [size // 2 for size in target_size]\n",
    "\n",
    "z_start = z_center - z_half\n",
    "y_start = y_center - y_half\n",
    "x_start = x_center - x_half\n",
    "\n",
    "z_end = z_start + target_size[0]\n",
    "y_end = y_start + target_size[1]\n",
    "x_end = x_start + target_size[2]\n",
    "\n",
    "pad_z_start = max(0, -z_start)\n",
    "pad_y_start = max(0, -y_start)\n",
    "pad_x_start = max(0, -x_start)\n",
    "\n",
    "pad_z_end = max(0, z_end - input_tensor.shape[2])\n",
    "pad_y_end = max(0, y_end - input_tensor.shape[3])\n",
    "pad_x_end = max(0, x_end - input_tensor.shape[4])\n",
    "\n",
    "z_start = max(0, z_start)\n",
    "y_start = max(0, y_start)\n",
    "x_start = max(0, x_start)\n",
    "\n",
    "z_end = min(input_tensor.shape[2], z_end)\n",
    "y_end = min(input_tensor.shape[3], y_end)\n",
    "x_end = min(input_tensor.shape[4], x_end)\n",
    "\n",
    "cropped_tensor = input_tensor[:, :, z_start:z_end, y_start:y_end, x_start:x_end]\n",
    "\n",
    "if any([pad_z_start, pad_y_start, pad_x_start, pad_z_end, pad_y_end, pad_x_end]):\n",
    "    cropped_tensor = torch.nn.functional.pad(\n",
    "        cropped_tensor,\n",
    "        (pad_x_start, pad_x_end, pad_y_start, pad_y_end, pad_z_start, pad_z_end),\n",
    "        mode=\"constant\",\n",
    "        value=0,\n",
    "    )\n",
    "\n",
    "output_tensor = cropped_tensor.detach().cpu()"
   ]
  },
  {
   "cell_type": "code",
   "execution_count": null,
   "metadata": {},
   "outputs": [],
   "source": [
    "import matplotlib.pyplot as plt\n",
    "\n",
    "mid = output_tensor.shape[2] // 2\n",
    "plt.imshow(output_tensor[:, :, mid], cmap=\"gray\")\n",
    "plt.axis(\"off\")\n",
    "plt.show()"
   ]
  },
  {
   "cell_type": "code",
   "execution_count": 35,
   "metadata": {},
   "outputs": [
    {
     "name": "stdout",
     "output_type": "stream",
     "text": [
      "✅ Patch dla labelu 27 + sąsiadów: shape=torch.Size([11, 12, 11])\n"
     ]
    },
    {
     "data": {
      "image/png": "[encoded data removed]",
      "text/plain": [
       "<Figure size 640x480 with 1 Axes>"
      ]
     },
     "metadata": {},
     "output_type": "display_data"
    }
   ],
   "source": [
    "import matplotlib.pyplot as plt\n",
    "import numpy as np\n",
    "\n",
    "ordered_vertebra_labels = [\n",
    "    41, 40, 39, 38, 37, 36, 35,  # C1–C7\n",
    "    34, 33, 32, 31, 30, 29, 28, 27, 26, 25, 24, 23,  # Th1–Th12\n",
    "    22, 21, 20, 19, 18  # L1–L5\n",
    "]\n",
    "\n",
    "def extract_patch_with_neighbors(segmentation, input_tensor, center_label, margin=5, neighbor_range=1):\n",
    "    try:\n",
    "        center_index = ordered_vertebra_labels.index(center_label)\n",
    "    except ValueError:\n",
    "        print(f\"❌ Label {center_label} not in vertebral list.\")\n",
    "        return None\n",
    "\n",
    "    neighbor_labels = ordered_vertebra_labels[\n",
    "        max(0, center_index - neighbor_range) : center_index + neighbor_range + 1\n",
    "    ]\n",
    "\n",
    "    # Maska dla danego kręgu i sąsiadów\n",
    "    mask = np.isin(segmentation, neighbor_labels).astype(np.uint8)\n",
    "\n",
    "    coords = np.array(mask.nonzero())\n",
    "    if coords.shape[1] == 0:\n",
    "        print(\"⚠️ Brak voxeli w masce łączonej.\")\n",
    "        return None\n",
    "\n",
    "    zmin, ymin, xmin = coords.min(axis=1)\n",
    "    zmax, ymax, xmax = coords.max(axis=1)\n",
    "\n",
    "    zmin = max(zmin - margin, 0)\n",
    "    ymin = max(ymin - margin, 0)\n",
    "    xmin = max(xmin - margin, 0)\n",
    "    zmax = min(zmax + margin, segmentation.shape[0])\n",
    "    ymax = min(ymax + margin, segmentation.shape[1])\n",
    "    xmax = min(xmax + margin, segmentation.shape[2])\n",
    "\n",
    "    # Wytnij z input_tensor: (1, 1, D, H, W)\n",
    "    patch = input_tensor[:, :, zmin:zmax, ymin:ymax, xmin:xmax]\n",
    "    patch_tensor = patch.squeeze().detach().cpu()  # (D, H, W)\n",
    "\n",
    "    print(f\"✅ Patch dla labelu {center_label} + sąsiadów: shape={patch_tensor.shape}\")\n",
    "\n",
    "    # Wizualizacja slice Z\n",
    "    mid = patch_tensor.shape[2] // 2\n",
    "    plt.imshow(patch_tensor[:, :, mid], cmap=\"gray\")\n",
    "    plt.title(f\"Kręg {center_label} ±{neighbor_range}\")\n",
    "    plt.axis(\"off\")\n",
    "    plt.show()\n",
    "\n",
    "    return patch_tensor\n",
    "\n",
    "# Przykład: vertebrae_L1 → label 22\n",
    "patch_L1 = extract_patch_with_neighbors(segmentation, input_tensor, center_label=27)\n"
   ]
  }
 ],
 "metadata": {
  "kernelspec": {
   "display_name": ".venv",
   "language": "python",
   "name": "python3"
  },
  "language_info": {
   "codemirror_mode": {
    "name": "ipython",
    "version": 3
   },
   "file_extension": ".py",
   "mimetype": "text/x-python",
   "name": "python",
   "nbconvert_exporter": "python",
   "pygments_lexer": "ipython3",
   "version": "3.13.0"
  }
 },
 "nbformat": 4,
 "nbformat_minor": 2
}
