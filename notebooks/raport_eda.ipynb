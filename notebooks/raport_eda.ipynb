{
 "cells": [
  {
   "cell_type": "code",
   "execution_count": 1,
   "metadata": {},
   "outputs": [],
   "source": [
    "import pandas as pd"
   ]
  },
  {
   "cell_type": "code",
   "execution_count": 2,
   "metadata": {},
   "outputs": [],
   "source": [
    "df = pd.read_excel(\"../data/raw/raport.xlsx\")"
   ]
  },
  {
   "cell_type": "code",
   "execution_count": 3,
   "metadata": {},
   "outputs": [],
   "source": [
    "df_2 = pd.read_excel(\"../data/raw/Zanonimizowane_całość urazy kręgosłupa 2014-2020 (1).xlsx\")"
   ]
  },
  {
   "cell_type": "code",
   "execution_count": 23,
   "metadata": {},
   "outputs": [
    {
     "data": {
      "text/plain": [
       "1048575"
      ]
     },
     "execution_count": 23,
     "metadata": {},
     "output_type": "execute_result"
    }
   ],
   "source": [
    "len(df_2)"
   ]
  },
  {
   "cell_type": "code",
   "execution_count": 4,
   "metadata": {},
   "outputs": [
    {
     "data": {
      "text/html": [
       "<div>\n",
       "<style scoped>\n",
       "    .dataframe tbody tr th:only-of-type {\n",
       "        vertical-align: middle;\n",
       "    }\n",
       "\n",
       "    .dataframe tbody tr th {\n",
       "        vertical-align: top;\n",
       "    }\n",
       "\n",
       "    .dataframe thead th {\n",
       "        text-align: right;\n",
       "    }\n",
       "</style>\n",
       "<table border=\"1\" class=\"dataframe\">\n",
       "  <thead>\n",
       "    <tr style=\"text-align: right;\">\n",
       "      <th></th>\n",
       "      <th>I.I.</th>\n",
       "      <th>Mężczyzna</th>\n",
       "      <th>low-energy trauma</th>\n",
       "      <th>high-energy trauma</th>\n",
       "      <th>brak wywiadu urazowego</th>\n",
       "      <th>RTG</th>\n",
       "      <th>Th</th>\n",
       "      <th>LS</th>\n",
       "      <th>Data badania</th>\n",
       "      <th>TK</th>\n",
       "      <th>...</th>\n",
       "      <th>C</th>\n",
       "      <th>SD</th>\n",
       "      <th>pre-DISH ze złamaniem</th>\n",
       "      <th>pre-DISH poza złamaniem</th>\n",
       "      <th>DISH ze złamaniem</th>\n",
       "      <th>DISH poza złamaniem</th>\n",
       "      <th>ZZSK</th>\n",
       "      <th>inne</th>\n",
       "      <th>charakteryzacja</th>\n",
       "      <th>Uwagi</th>\n",
       "    </tr>\n",
       "  </thead>\n",
       "  <tbody>\n",
       "    <tr>\n",
       "      <th>0</th>\n",
       "      <td>MM M 62</td>\n",
       "      <td>1.0</td>\n",
       "      <td>NaN</td>\n",
       "      <td>1.0</td>\n",
       "      <td>NaN</td>\n",
       "      <td>1.0</td>\n",
       "      <td>NaN</td>\n",
       "      <td>1.0</td>\n",
       "      <td>2020-05-06</td>\n",
       "      <td>1.0</td>\n",
       "      <td>...</td>\n",
       "      <td>NaN</td>\n",
       "      <td>NaN</td>\n",
       "      <td>NaN</td>\n",
       "      <td>NaN</td>\n",
       "      <td>NaN</td>\n",
       "      <td>NaN</td>\n",
       "      <td>NaN</td>\n",
       "      <td>NaN</td>\n",
       "      <td>NaN</td>\n",
       "      <td>NaN</td>\n",
       "    </tr>\n",
       "    <tr>\n",
       "      <th>1</th>\n",
       "      <td>NaN</td>\n",
       "      <td>NaN</td>\n",
       "      <td>NaN</td>\n",
       "      <td>NaN</td>\n",
       "      <td>NaN</td>\n",
       "      <td>NaN</td>\n",
       "      <td>NaN</td>\n",
       "      <td>NaN</td>\n",
       "      <td>NaT</td>\n",
       "      <td>NaN</td>\n",
       "      <td>...</td>\n",
       "      <td>NaN</td>\n",
       "      <td>NaN</td>\n",
       "      <td>NaN</td>\n",
       "      <td>NaN</td>\n",
       "      <td>NaN</td>\n",
       "      <td>NaN</td>\n",
       "      <td>NaN</td>\n",
       "      <td>NaN</td>\n",
       "      <td>NaN</td>\n",
       "      <td>NaN</td>\n",
       "    </tr>\n",
       "    <tr>\n",
       "      <th>2</th>\n",
       "      <td>NaN</td>\n",
       "      <td>NaN</td>\n",
       "      <td>NaN</td>\n",
       "      <td>NaN</td>\n",
       "      <td>NaN</td>\n",
       "      <td>NaN</td>\n",
       "      <td>NaN</td>\n",
       "      <td>NaN</td>\n",
       "      <td>NaT</td>\n",
       "      <td>NaN</td>\n",
       "      <td>...</td>\n",
       "      <td>NaN</td>\n",
       "      <td>NaN</td>\n",
       "      <td>NaN</td>\n",
       "      <td>NaN</td>\n",
       "      <td>NaN</td>\n",
       "      <td>NaN</td>\n",
       "      <td>NaN</td>\n",
       "      <td>NaN</td>\n",
       "      <td>NaN</td>\n",
       "      <td>NaN</td>\n",
       "    </tr>\n",
       "    <tr>\n",
       "      <th>3</th>\n",
       "      <td>NaN</td>\n",
       "      <td>NaN</td>\n",
       "      <td>NaN</td>\n",
       "      <td>NaN</td>\n",
       "      <td>NaN</td>\n",
       "      <td>NaN</td>\n",
       "      <td>NaN</td>\n",
       "      <td>NaN</td>\n",
       "      <td>NaT</td>\n",
       "      <td>NaN</td>\n",
       "      <td>...</td>\n",
       "      <td>NaN</td>\n",
       "      <td>NaN</td>\n",
       "      <td>NaN</td>\n",
       "      <td>NaN</td>\n",
       "      <td>NaN</td>\n",
       "      <td>NaN</td>\n",
       "      <td>NaN</td>\n",
       "      <td>NaN</td>\n",
       "      <td>NaN</td>\n",
       "      <td>NaN</td>\n",
       "    </tr>\n",
       "    <tr>\n",
       "      <th>4</th>\n",
       "      <td>SA K 46</td>\n",
       "      <td>0.0</td>\n",
       "      <td>1.0</td>\n",
       "      <td>NaN</td>\n",
       "      <td>NaN</td>\n",
       "      <td>0.0</td>\n",
       "      <td>NaN</td>\n",
       "      <td>NaN</td>\n",
       "      <td>NaT</td>\n",
       "      <td>1.0</td>\n",
       "      <td>...</td>\n",
       "      <td>NaN</td>\n",
       "      <td>NaN</td>\n",
       "      <td>NaN</td>\n",
       "      <td>NaN</td>\n",
       "      <td>NaN</td>\n",
       "      <td>NaN</td>\n",
       "      <td>NaN</td>\n",
       "      <td>NaN</td>\n",
       "      <td>NaN</td>\n",
       "      <td>NaN</td>\n",
       "    </tr>\n",
       "  </tbody>\n",
       "</table>\n",
       "<p>5 rows × 38 columns</p>\n",
       "</div>"
      ],
      "text/plain": [
       "      I.I.  Mężczyzna  low-energy trauma  high-energy trauma   \\\n",
       "0  MM M 62        1.0                NaN                  1.0   \n",
       "1      NaN        NaN                NaN                  NaN   \n",
       "2      NaN        NaN                NaN                  NaN   \n",
       "3      NaN        NaN                NaN                  NaN   \n",
       "4  SA K 46        0.0                1.0                  NaN   \n",
       "\n",
       "   brak wywiadu urazowego  RTG  Th   LS Data badania   TK  ...   C  SD  \\\n",
       "0                     NaN  1.0 NaN  1.0   2020-05-06  1.0  ... NaN NaN   \n",
       "1                     NaN  NaN NaN  NaN          NaT  NaN  ... NaN NaN   \n",
       "2                     NaN  NaN NaN  NaN          NaT  NaN  ... NaN NaN   \n",
       "3                     NaN  NaN NaN  NaN          NaT  NaN  ... NaN NaN   \n",
       "4                     NaN  0.0 NaN  NaN          NaT  1.0  ... NaN NaN   \n",
       "\n",
       "   pre-DISH ze złamaniem  pre-DISH poza złamaniem  DISH ze złamaniem  \\\n",
       "0                    NaN                      NaN                NaN   \n",
       "1                    NaN                      NaN                NaN   \n",
       "2                    NaN                      NaN                NaN   \n",
       "3                    NaN                      NaN                NaN   \n",
       "4                    NaN                      NaN                NaN   \n",
       "\n",
       "   DISH poza złamaniem  ZZSK  inne charakteryzacja  Uwagi  \n",
       "0                  NaN   NaN   NaN              NaN   NaN  \n",
       "1                  NaN   NaN   NaN              NaN   NaN  \n",
       "2                  NaN   NaN   NaN              NaN   NaN  \n",
       "3                  NaN   NaN   NaN              NaN   NaN  \n",
       "4                  NaN   NaN   NaN              NaN   NaN  \n",
       "\n",
       "[5 rows x 38 columns]"
      ]
     },
     "execution_count": 4,
     "metadata": {},
     "output_type": "execute_result"
    }
   ],
   "source": [
    "df.head()"
   ]
  },
  {
   "cell_type": "code",
   "execution_count": 5,
   "metadata": {},
   "outputs": [
    {
     "data": {
      "text/plain": [
       "Index(['I.I.', 'Mężczyzna', 'low-energy trauma', 'high-energy trauma ',\n",
       "       'brak wywiadu urazowego', 'RTG', 'Th', 'LS', 'Data badania', 'TK',\n",
       "       'TK multitrauma', 'Th.1', 'LS.1', 'klp C-', 'klp C+', 'jb C-', 'jb C+',\n",
       "       'SOR', 'Data badania.1', 'Poziom', 'A0', 'A1', 'A2', 'A3', 'A4', 'B1',\n",
       "       'B2', 'B3', 'C', 'SD', 'pre-DISH ze złamaniem',\n",
       "       'pre-DISH poza złamaniem', 'DISH ze złamaniem', 'DISH poza złamaniem',\n",
       "       'ZZSK', 'inne', 'charakteryzacja ', 'Uwagi'],\n",
       "      dtype='object')"
      ]
     },
     "execution_count": 5,
     "metadata": {},
     "output_type": "execute_result"
    }
   ],
   "source": [
    "df.columns"
   ]
  },
  {
   "cell_type": "code",
   "execution_count": 6,
   "metadata": {},
   "outputs": [],
   "source": [
    "columns_of_interest = ['I.I.', 'Poziom', 'A0', 'A1', 'A2', 'A3', 'A4', 'B1', 'B2', 'B3', 'C', 'Mężczyzna']\n",
    "df_trimmed = df[columns_of_interest].copy()\n",
    "df_v2_trimmed = df_2[columns_of_interest].copy()\n",
    "records = []\n",
    "current_traumas = []\n",
    "current_gender = None\n",
    "current_ii = None\n",
    "\n",
    "df_trimmed = pd.concat([df_trimmed, df_v2_trimmed], ignore_index=True, axis=0)\n"
   ]
  },
  {
   "cell_type": "code",
   "execution_count": 7,
   "metadata": {},
   "outputs": [
    {
     "data": {
      "text/html": [
       "<div>\n",
       "<style scoped>\n",
       "    .dataframe tbody tr th:only-of-type {\n",
       "        vertical-align: middle;\n",
       "    }\n",
       "\n",
       "    .dataframe tbody tr th {\n",
       "        vertical-align: top;\n",
       "    }\n",
       "\n",
       "    .dataframe thead th {\n",
       "        text-align: right;\n",
       "    }\n",
       "</style>\n",
       "<table border=\"1\" class=\"dataframe\">\n",
       "  <thead>\n",
       "    <tr style=\"text-align: right;\">\n",
       "      <th></th>\n",
       "      <th>I.I.</th>\n",
       "      <th>Poziom</th>\n",
       "      <th>A0</th>\n",
       "      <th>A1</th>\n",
       "      <th>A2</th>\n",
       "      <th>A3</th>\n",
       "      <th>A4</th>\n",
       "      <th>B1</th>\n",
       "      <th>B2</th>\n",
       "      <th>B3</th>\n",
       "      <th>C</th>\n",
       "      <th>Mężczyzna</th>\n",
       "    </tr>\n",
       "  </thead>\n",
       "  <tbody>\n",
       "    <tr>\n",
       "      <th>0</th>\n",
       "      <td>MM M 62</td>\n",
       "      <td>L1</td>\n",
       "      <td>NaN</td>\n",
       "      <td>NaN</td>\n",
       "      <td>NaN</td>\n",
       "      <td>NaN</td>\n",
       "      <td>1.0</td>\n",
       "      <td>NaN</td>\n",
       "      <td>NaN</td>\n",
       "      <td>NaN</td>\n",
       "      <td>NaN</td>\n",
       "      <td>1.0</td>\n",
       "    </tr>\n",
       "    <tr>\n",
       "      <th>1</th>\n",
       "      <td>NaN</td>\n",
       "      <td>L2</td>\n",
       "      <td>NaN</td>\n",
       "      <td>1.0</td>\n",
       "      <td>NaN</td>\n",
       "      <td>NaN</td>\n",
       "      <td>NaN</td>\n",
       "      <td>NaN</td>\n",
       "      <td>NaN</td>\n",
       "      <td>NaN</td>\n",
       "      <td>NaN</td>\n",
       "      <td>NaN</td>\n",
       "    </tr>\n",
       "    <tr>\n",
       "      <th>2</th>\n",
       "      <td>NaN</td>\n",
       "      <td>L4</td>\n",
       "      <td>NaN</td>\n",
       "      <td>1.0</td>\n",
       "      <td>NaN</td>\n",
       "      <td>NaN</td>\n",
       "      <td>NaN</td>\n",
       "      <td>NaN</td>\n",
       "      <td>NaN</td>\n",
       "      <td>NaN</td>\n",
       "      <td>NaN</td>\n",
       "      <td>NaN</td>\n",
       "    </tr>\n",
       "    <tr>\n",
       "      <th>3</th>\n",
       "      <td>NaN</td>\n",
       "      <td>L5</td>\n",
       "      <td>NaN</td>\n",
       "      <td>1.0</td>\n",
       "      <td>NaN</td>\n",
       "      <td>NaN</td>\n",
       "      <td>NaN</td>\n",
       "      <td>NaN</td>\n",
       "      <td>NaN</td>\n",
       "      <td>NaN</td>\n",
       "      <td>NaN</td>\n",
       "      <td>NaN</td>\n",
       "    </tr>\n",
       "    <tr>\n",
       "      <th>4</th>\n",
       "      <td>SA K 46</td>\n",
       "      <td>Th3</td>\n",
       "      <td>NaN</td>\n",
       "      <td>NaN</td>\n",
       "      <td>NaN</td>\n",
       "      <td>NaN</td>\n",
       "      <td>NaN</td>\n",
       "      <td>1.0</td>\n",
       "      <td>NaN</td>\n",
       "      <td>NaN</td>\n",
       "      <td>NaN</td>\n",
       "      <td>0.0</td>\n",
       "    </tr>\n",
       "  </tbody>\n",
       "</table>\n",
       "</div>"
      ],
      "text/plain": [
       "      I.I. Poziom  A0   A1  A2  A3   A4   B1  B2  B3   C  Mężczyzna\n",
       "0  MM M 62     L1 NaN  NaN NaN NaN  1.0  NaN NaN NaN NaN        1.0\n",
       "1      NaN     L2 NaN  1.0 NaN NaN  NaN  NaN NaN NaN NaN        NaN\n",
       "2      NaN     L4 NaN  1.0 NaN NaN  NaN  NaN NaN NaN NaN        NaN\n",
       "3      NaN     L5 NaN  1.0 NaN NaN  NaN  NaN NaN NaN NaN        NaN\n",
       "4  SA K 46    Th3 NaN  NaN NaN NaN  NaN  1.0 NaN NaN NaN        0.0"
      ]
     },
     "execution_count": 7,
     "metadata": {},
     "output_type": "execute_result"
    }
   ],
   "source": [
    "df_trimmed.head()"
   ]
  },
  {
   "cell_type": "code",
   "execution_count": null,
   "metadata": {},
   "outputs": [],
   "source": []
  },
  {
   "cell_type": "code",
   "execution_count": 8,
   "metadata": {},
   "outputs": [],
   "source": [
    "for _, row in df_trimmed.iterrows():\n",
    "    if pd.notna(row['I.I.']):\n",
    "        if current_traumas:\n",
    "            records.append({\n",
    "                \"I.I\": f\"{current_ii}\",\n",
    "                \"is_man\": current_gender,\n",
    "                \"traumas\": current_traumas\n",
    "            })\n",
    "        current_gender = bool(row['Mężczyzna'])\n",
    "        current_traumas = []\n",
    "        current_ii = row['I.I.']\n",
    "\n",
    "    if pd.notna(row['Poziom']):\n",
    "        level = row['Poziom']\n",
    "        for trauma_type in ['A0', 'A1', 'A2', 'A3', 'A4', 'B1', 'B2', 'B3', 'C']:\n",
    "            if pd.notna(row[trauma_type]):\n",
    "                current_traumas.append((level, trauma_type))\n",
    "\n",
    "if current_traumas:\n",
    "    records.append({\n",
    "        \"I.I\": f\"I.I. {current_ii}\",\n",
    "        \"is_man\": current_gender,\n",
    "        \"traumas\": current_traumas\n",
    "    })\n"
   ]
  },
  {
   "cell_type": "code",
   "execution_count": 9,
   "metadata": {},
   "outputs": [
    {
     "data": {
      "text/html": [
       "<div>\n",
       "<style scoped>\n",
       "    .dataframe tbody tr th:only-of-type {\n",
       "        vertical-align: middle;\n",
       "    }\n",
       "\n",
       "    .dataframe tbody tr th {\n",
       "        vertical-align: top;\n",
       "    }\n",
       "\n",
       "    .dataframe thead th {\n",
       "        text-align: right;\n",
       "    }\n",
       "</style>\n",
       "<table border=\"1\" class=\"dataframe\">\n",
       "  <thead>\n",
       "    <tr style=\"text-align: right;\">\n",
       "      <th></th>\n",
       "      <th>I.I</th>\n",
       "      <th>is_man</th>\n",
       "      <th>traumas</th>\n",
       "    </tr>\n",
       "  </thead>\n",
       "  <tbody>\n",
       "    <tr>\n",
       "      <th>0</th>\n",
       "      <td>MM M 62</td>\n",
       "      <td>True</td>\n",
       "      <td>[(L1, A4), (L2, A1), (L4, A1), (L5, A1)]</td>\n",
       "    </tr>\n",
       "    <tr>\n",
       "      <th>1</th>\n",
       "      <td>SA K 46</td>\n",
       "      <td>False</td>\n",
       "      <td>[(Th3, B1)]</td>\n",
       "    </tr>\n",
       "    <tr>\n",
       "      <th>2</th>\n",
       "      <td>PG M 75</td>\n",
       "      <td>True</td>\n",
       "      <td>[(Th10, A1), (Th11, A1), (Th12, A3), (Th11/Th1...</td>\n",
       "    </tr>\n",
       "    <tr>\n",
       "      <th>3</th>\n",
       "      <td>ZR M 79</td>\n",
       "      <td>True</td>\n",
       "      <td>[(Th11/Th12, B3), (L1, A0), (L2, A0), (L3, A0)...</td>\n",
       "    </tr>\n",
       "    <tr>\n",
       "      <th>4</th>\n",
       "      <td>MM K 1, 2 35</td>\n",
       "      <td>False</td>\n",
       "      <td>[(Th6, A1)]</td>\n",
       "    </tr>\n",
       "    <tr>\n",
       "      <th>5</th>\n",
       "      <td>RM M 40</td>\n",
       "      <td>True</td>\n",
       "      <td>[(Th8/Th9 , B3)]</td>\n",
       "    </tr>\n",
       "    <tr>\n",
       "      <th>6</th>\n",
       "      <td>CS K 97</td>\n",
       "      <td>False</td>\n",
       "      <td>[(Th6, A1), (Th7/Th8, B2), (Th8, A4), (Th10, A...</td>\n",
       "    </tr>\n",
       "    <tr>\n",
       "      <th>7</th>\n",
       "      <td>JJ K 25</td>\n",
       "      <td>False</td>\n",
       "      <td>[(Th11, A3), (Th10/Th11, B2)]</td>\n",
       "    </tr>\n",
       "    <tr>\n",
       "      <th>8</th>\n",
       "      <td>NJ M 57</td>\n",
       "      <td>True</td>\n",
       "      <td>[(Th12/L1, C)]</td>\n",
       "    </tr>\n",
       "    <tr>\n",
       "      <th>9</th>\n",
       "      <td>SW M 47</td>\n",
       "      <td>True</td>\n",
       "      <td>[(Th10, A1), (Th11, A1), (L1, A1), (Th10/Th11,...</td>\n",
       "    </tr>\n",
       "  </tbody>\n",
       "</table>\n",
       "</div>"
      ],
      "text/plain": [
       "            I.I  is_man                                            traumas\n",
       "0       MM M 62    True           [(L1, A4), (L2, A1), (L4, A1), (L5, A1)]\n",
       "1       SA K 46   False                                        [(Th3, B1)]\n",
       "2       PG M 75    True  [(Th10, A1), (Th11, A1), (Th12, A3), (Th11/Th1...\n",
       "3       ZR M 79    True  [(Th11/Th12, B3), (L1, A0), (L2, A0), (L3, A0)...\n",
       "4  MM K 1, 2 35   False                                        [(Th6, A1)]\n",
       "5       RM M 40    True                                   [(Th8/Th9 , B3)]\n",
       "6       CS K 97   False  [(Th6, A1), (Th7/Th8, B2), (Th8, A4), (Th10, A...\n",
       "7       JJ K 25   False                      [(Th11, A3), (Th10/Th11, B2)]\n",
       "8       NJ M 57    True                                     [(Th12/L1, C)]\n",
       "9       SW M 47    True  [(Th10, A1), (Th11, A1), (L1, A1), (Th10/Th11,..."
      ]
     },
     "execution_count": 9,
     "metadata": {},
     "output_type": "execute_result"
    }
   ],
   "source": [
    "records_df = pd.DataFrame(records)\n",
    "records_df.head(10)"
   ]
  },
  {
   "cell_type": "code",
   "execution_count": 10,
   "metadata": {},
   "outputs": [
    {
     "data": {
      "text/html": [
       "<div>\n",
       "<style scoped>\n",
       "    .dataframe tbody tr th:only-of-type {\n",
       "        vertical-align: middle;\n",
       "    }\n",
       "\n",
       "    .dataframe tbody tr th {\n",
       "        vertical-align: top;\n",
       "    }\n",
       "\n",
       "    .dataframe thead th {\n",
       "        text-align: right;\n",
       "    }\n",
       "</style>\n",
       "<table border=\"1\" class=\"dataframe\">\n",
       "  <thead>\n",
       "    <tr style=\"text-align: right;\">\n",
       "      <th></th>\n",
       "      <th>I.I</th>\n",
       "      <th>is_man</th>\n",
       "      <th>traumas</th>\n",
       "    </tr>\n",
       "  </thead>\n",
       "  <tbody>\n",
       "    <tr>\n",
       "      <th>377</th>\n",
       "      <td>L.A.</td>\n",
       "      <td>False</td>\n",
       "      <td>[(L1/L2, B2), (L2, A4), (L3, A0), (L5, A1)]</td>\n",
       "    </tr>\n",
       "    <tr>\n",
       "      <th>378</th>\n",
       "      <td>F.J.</td>\n",
       "      <td>True</td>\n",
       "      <td>[(Th12/L1, B2), (L1, A4)]</td>\n",
       "    </tr>\n",
       "    <tr>\n",
       "      <th>379</th>\n",
       "      <td>G.A.</td>\n",
       "      <td>True</td>\n",
       "      <td>[(Th2, A1), (Th3, A3), (Th4, A4), (Th5, A1), (...</td>\n",
       "    </tr>\n",
       "    <tr>\n",
       "      <th>380</th>\n",
       "      <td>J.J.</td>\n",
       "      <td>False</td>\n",
       "      <td>[(Th11, A3), (Th10/Th11, B2)]</td>\n",
       "    </tr>\n",
       "    <tr>\n",
       "      <th>381</th>\n",
       "      <td>P.Ł.</td>\n",
       "      <td>True</td>\n",
       "      <td>[(Th1, A0), (Th4, A0), (Th4-Th7, B1), (Th6/Th7...</td>\n",
       "    </tr>\n",
       "    <tr>\n",
       "      <th>382</th>\n",
       "      <td>D.M.</td>\n",
       "      <td>True</td>\n",
       "      <td>[(L1, A0), (L2, A0), (L4/L5, C), (L5, A4)]</td>\n",
       "    </tr>\n",
       "    <tr>\n",
       "      <th>383</th>\n",
       "      <td>S.W.</td>\n",
       "      <td>True</td>\n",
       "      <td>[(Th10, A1), (Th11, A1), (L1, A1), (Th10/Th11,...</td>\n",
       "    </tr>\n",
       "    <tr>\n",
       "      <th>384</th>\n",
       "      <td>N.J.</td>\n",
       "      <td>True</td>\n",
       "      <td>[(Th12/L1, C)]</td>\n",
       "    </tr>\n",
       "    <tr>\n",
       "      <th>385</th>\n",
       "      <td>N.W.</td>\n",
       "      <td>True</td>\n",
       "      <td>[(Th2/Th3, B2), (Th3, A1), (L5, A0)]</td>\n",
       "    </tr>\n",
       "    <tr>\n",
       "      <th>386</th>\n",
       "      <td>I.I. D.J.</td>\n",
       "      <td>True</td>\n",
       "      <td>[(L3, A1)]</td>\n",
       "    </tr>\n",
       "  </tbody>\n",
       "</table>\n",
       "</div>"
      ],
      "text/plain": [
       "           I.I  is_man                                            traumas\n",
       "377       L.A.   False        [(L1/L2, B2), (L2, A4), (L3, A0), (L5, A1)]\n",
       "378       F.J.    True                          [(Th12/L1, B2), (L1, A4)]\n",
       "379       G.A.    True  [(Th2, A1), (Th3, A3), (Th4, A4), (Th5, A1), (...\n",
       "380       J.J.   False                      [(Th11, A3), (Th10/Th11, B2)]\n",
       "381       P.Ł.    True  [(Th1, A0), (Th4, A0), (Th4-Th7, B1), (Th6/Th7...\n",
       "382       D.M.    True         [(L1, A0), (L2, A0), (L4/L5, C), (L5, A4)]\n",
       "383       S.W.    True  [(Th10, A1), (Th11, A1), (L1, A1), (Th10/Th11,...\n",
       "384       N.J.    True                                     [(Th12/L1, C)]\n",
       "385       N.W.    True               [(Th2/Th3, B2), (Th3, A1), (L5, A0)]\n",
       "386  I.I. D.J.    True                                         [(L3, A1)]"
      ]
     },
     "execution_count": 10,
     "metadata": {},
     "output_type": "execute_result"
    }
   ],
   "source": [
    "records_df.tail(10)"
   ]
  },
  {
   "cell_type": "code",
   "execution_count": 34,
   "metadata": {},
   "outputs": [
    {
     "data": {
      "image/png": "[encoded data removed]",
      "text/plain": [
       "<Figure size 1200x600 with 1 Axes>"
      ]
     },
     "metadata": {},
     "output_type": "display_data"
    }
   ],
   "source": [
    "from collections import Counter\n",
    "import matplotlib.pyplot as plt\n",
    "\n",
    "# Funkcja do obliczania liczby urazów z uwzględnieniem podwójnego zliczania dla \"-\" i \"/\"\n",
    "def count_traumas_with_split(traumas):\n",
    "    count = 0\n",
    "    for trauma in traumas:\n",
    "        location = trauma[0]  # Pierwszy element tupli to lokalizacja\n",
    "        if \"-\" in location or \"/\" in location:\n",
    "            count += 2  # Zliczaj dwa razy, jeśli lokalizacja zawiera \"-\" lub \"/\"\n",
    "        else:\n",
    "            count += 1  # Zliczaj raz w pozostałych przypadkach\n",
    "    return count\n",
    "\n",
    "# Dodanie kolumny z liczbą urazów do DataFrame\n",
    "records_df[\"trauma_count\"] = records_df[\"traumas\"].apply(count_traumas_with_split)\n",
    "\n",
    "# Liczenie, ilu pacjentów ma określoną liczbę urazów\n",
    "trauma_distribution = records_df[\"trauma_count\"].value_counts().sort_index()\n",
    "\n",
    "# Tworzenie histogramu\n",
    "plt.figure(figsize=(12, 6))\n",
    "bars = plt.bar(trauma_distribution.index, trauma_distribution.values)\n",
    "plt.xlabel(\"Number of Traumas\")\n",
    "plt.ylabel(\"Number of Patients\")\n",
    "plt.xticks(trauma_distribution.index)\n",
    "plt.tight_layout()\n",
    "\n",
    "# Dodawanie wartości nad słupkami\n",
    "for bar in bars:\n",
    "    height = bar.get_height()\n",
    "    plt.text(bar.get_x() + bar.get_width() / 2, height, str(height), ha='center', va='bottom')\n",
    "\n",
    "plt.show()"
   ]
  },
  {
   "cell_type": "code",
   "execution_count": 11,
   "metadata": {},
   "outputs": [
    {
     "data": {
      "text/plain": [
       "387"
      ]
     },
     "execution_count": 11,
     "metadata": {},
     "output_type": "execute_result"
    }
   ],
   "source": [
    "len(records_df)"
   ]
  },
  {
   "cell_type": "code",
   "execution_count": 12,
   "metadata": {},
   "outputs": [
    {
     "data": {
      "text/plain": [
       "I.I        object\n",
       "is_man       bool\n",
       "traumas    object\n",
       "dtype: object"
      ]
     },
     "execution_count": 12,
     "metadata": {},
     "output_type": "execute_result"
    }
   ],
   "source": [
    "records_df.dtypes"
   ]
  },
  {
   "cell_type": "code",
   "execution_count": 13,
   "metadata": {},
   "outputs": [
    {
     "data": {
      "text/plain": [
       "0           (L1, A4)\n",
       "0           (L2, A1)\n",
       "0           (L4, A1)\n",
       "0           (L5, A1)\n",
       "1          (Th3, B1)\n",
       "           ...      \n",
       "384     (Th12/L1, C)\n",
       "385    (Th2/Th3, B2)\n",
       "385        (Th3, A1)\n",
       "385         (L5, A0)\n",
       "386         (L3, A1)\n",
       "Name: traumas, Length: 658, dtype: object"
      ]
     },
     "execution_count": 13,
     "metadata": {},
     "output_type": "execute_result"
    }
   ],
   "source": [
    "all_pairs = records_df.explode('traumas')['traumas']\n",
    "all_pairs"
   ]
  },
  {
   "cell_type": "code",
   "execution_count": 18,
   "metadata": {},
   "outputs": [],
   "source": [
    "import re\n",
    "import matplotlib.pyplot as plt\n",
    "from natsort import natsorted\n",
    "\n",
    "# Dane wejściowe\n",
    "# all_pairs = [...]  # Zakładam, że masz listę par (first, second)\n",
    "\n",
    "# Liczenie wystąpień dla pierwszego elementu (kręgi)\n",
    "first_elements = Counter()\n",
    "for first, _ in all_pairs:\n",
    "    segments = re.split(r\"[/\\-]\", first)\n",
    "    for segment in segments:\n",
    "        first_elements[segment.strip()] += 1\n",
    "\n",
    "# Liczenie wystąpień dla drugiego elementu (typy urazów)\n",
    "second_elements = Counter([x[1] for x in all_pairs])\n",
    "\n",
    "# Kolejność kręgów: od Th1 do Th12, L1 do L5\n",
    "vertebra_order = [f\"Th{i}\" for i in range(1, 13)] + [f\"L{i}\" for i in range(1, 6)]\n",
    "\n",
    "# Sortowanie first_elements według vertebra_order\n",
    "sorted_first_keys = [key for key in vertebra_order if key in first_elements]\n",
    "sorted_first_values = [first_elements[key] for key in sorted_first_keys]\n",
    "\n"
   ]
  },
  {
   "cell_type": "code",
   "execution_count": 19,
   "metadata": {},
   "outputs": [
    {
     "name": "stdout",
     "output_type": "stream",
     "text": [
      "First elements:\n",
      "L1: 161\n",
      "Th12: 105\n",
      "L2: 85\n",
      "L3: 65\n",
      "Th11: 56\n",
      "L4: 39\n",
      "Th10: 26\n",
      "Th6: 23\n",
      "Th4: 23\n",
      "L5: 21\n",
      "Th3: 21\n",
      "Th7: 20\n",
      "Th8: 19\n",
      "Th5: 16\n",
      "Th9: 11\n",
      "Th2: 11\n",
      "Th1: 7\n"
     ]
    }
   ],
   "source": [
    "print(\"First elements:\")\n",
    "for k, v in first_elements.most_common(20):\n",
    "    print(f\"{k}: {v}\")"
   ]
  },
  {
   "cell_type": "code",
   "execution_count": 21,
   "metadata": {},
   "outputs": [
    {
     "data": {
      "image/png": "[encoded data removed]",
      "text/plain": [
       "<Figure size 1200x600 with 1 Axes>"
      ]
     },
     "metadata": {},
     "output_type": "display_data"
    },
    {
     "data": {
      "image/png": "[encoded data removed]",
      "text/plain": [
       "<Figure size 1200x600 with 1 Axes>"
      ]
     },
     "metadata": {},
     "output_type": "display_data"
    }
   ],
   "source": [
    "# Histogram 1: Vertebra vs Frequency of fractures\n",
    "plt.figure(figsize=(12, 6))\n",
    "bars = plt.bar(sorted_first_keys, sorted_first_values)\n",
    "plt.xlabel(\"Vertebra\")\n",
    "plt.ylabel(\"Frequency of fractures\")\n",
    "plt.xticks(rotation=45)\n",
    "plt.tight_layout()\n",
    "for bar in bars:\n",
    "    height = bar.get_height()\n",
    "    plt.text(bar.get_x() + bar.get_width() / 2, height, str(height), ha='center', va='bottom')\n",
    "plt.show()\n",
    "\n",
    "# Histogram 2: AO type of vertebral fractures vs Frequency of fractures\n",
    "sorted_second_keys = natsorted(second_elements.keys())  # Naturalne sortowanie typów urazów\n",
    "sorted_second_values = [second_elements[key] for key in sorted_second_keys]\n",
    "\n",
    "plt.figure(figsize=(12, 6))\n",
    "bars = plt.bar(sorted_second_keys, sorted_second_values)\n",
    "plt.xlabel(\"AO type of vertebral fractures\")\n",
    "plt.ylabel(\"Frequency of fractures\")\n",
    "plt.xticks(rotation=45)\n",
    "plt.tight_layout()\n",
    "for bar in bars:\n",
    "    height = bar.get_height()\n",
    "    plt.text(bar.get_x() + bar.get_width() / 2, height, str(height), ha='center', va='bottom')\n",
    "plt.show()"
   ]
  },
  {
   "cell_type": "code",
   "execution_count": 21,
   "metadata": {},
   "outputs": [
    {
     "name": "stdout",
     "output_type": "stream",
     "text": [
      "{'L5': 18, 'L4': 19, 'L3': 20, 'L2': 21, 'L1': 22, 'T12': 23, 'T11': 24, 'T10': 25, 'T9': 26, 'T8': 27, 'T7': 28, 'T6': 29, 'T5': 30, 'T4': 31, 'T3': 32, 'T2': 33, 'T1': 34, 'C7': 35, 'C6': 36, 'C5': 37, 'C4': 38, 'C3': 39, 'C2': 40, 'C1': 41}\n"
     ]
    }
   ],
   "source": [
    "# Oryginalny słownik\n",
    "vertebrae_dict = {\n",
    "    \"18\": \"vertebrae_L5\",\n",
    "    \"19\": \"vertebrae_L4\",\n",
    "    \"20\": \"vertebrae_L3\",\n",
    "    \"21\": \"vertebrae_L2\",\n",
    "    \"22\": \"vertebrae_L1\",\n",
    "    \"23\": \"vertebrae_T12\",\n",
    "    \"24\": \"vertebrae_T11\",\n",
    "    \"25\": \"vertebrae_T10\",\n",
    "    \"26\": \"vertebrae_T9\",\n",
    "    \"27\": \"vertebrae_T8\",\n",
    "    \"28\": \"vertebrae_T7\",\n",
    "    \"29\": \"vertebrae_T6\",\n",
    "    \"30\": \"vertebrae_T5\",\n",
    "    \"31\": \"vertebrae_T4\",\n",
    "    \"32\": \"vertebrae_T3\",\n",
    "    \"33\": \"vertebrae_T2\",\n",
    "    \"34\": \"vertebrae_T1\",\n",
    "    \"35\": \"vertebrae_C7\",\n",
    "    \"36\": \"vertebrae_C6\",\n",
    "    \"37\": \"vertebrae_C5\",\n",
    "    \"38\": \"vertebrae_C4\",\n",
    "    \"39\": \"vertebrae_C3\",\n",
    "    \"40\": \"vertebrae_C2\",\n",
    "    \"41\": \"vertebrae_C1\",\n",
    "}\n",
    "\n",
    "# Odwrócenie słownika i usunięcie prefiksu \"vertebrae_\"\n",
    "reversed_dict = {value.replace(\"vertebrae_\", \"\"): int(key) for key, value in vertebrae_dict.items()}\n",
    "\n",
    "# Przykład użycia\n",
    "print(reversed_dict)  # Wynik: 19"
   ]
  },
  {
   "cell_type": "code",
   "execution_count": 22,
   "metadata": {},
   "outputs": [],
   "source": [
    "def extract_dir_names(raw: str) -> list[str]:\n",
    "    parts = raw.split()\n",
    "    if ',' in raw:\n",
    "        prefix = ' '.join(parts[:2])\n",
    "        numbers = parts[2].split(',')\n",
    "        if len(parts) == 4:\n",
    "            numbers += [parts[3]]\n",
    "        else:\n",
    "            numbers[-1] = numbers[-1].strip(',')\n",
    "            numbers = [n.strip() for n in numbers]\n",
    "            numbers[-1] += ' ' + parts[-1]\n",
    "        return [f\"{prefix} {n.strip()} {parts[-1]}\" for n in numbers[:-1]]\n",
    "    return [raw]"
   ]
  },
  {
   "cell_type": "code",
   "execution_count": 23,
   "metadata": {},
   "outputs": [
    {
     "data": {
      "text/plain": [
       "['MM K 1 35']"
      ]
     },
     "execution_count": 23,
     "metadata": {},
     "output_type": "execute_result"
    }
   ],
   "source": [
    "extract_dir_names(\"MM K 1, 2 35\")"
   ]
  },
  {
   "cell_type": "code",
   "execution_count": 28,
   "metadata": {},
   "outputs": [],
   "source": [
    "import seaborn as sns"
   ]
  },
  {
   "cell_type": "code",
   "execution_count": 35,
   "metadata": {},
   "outputs": [
    {
     "data": {
      "image/png": "[encoded data removed]",
      "text/plain": [
       "<Figure size 1200x800 with 2 Axes>"
      ]
     },
     "metadata": {},
     "output_type": "display_data"
    }
   ],
   "source": [
    "expanded_data = []\n",
    "for first, second in all_pairs:\n",
    "    segments = re.split(r\"[/\\-]\", first)  # Rozdzielanie lokalizacji\n",
    "    for segment in segments:\n",
    "        expanded_data.append({\"Location\": segment.strip(), \"AO_Type\": second})\n",
    "\n",
    "# Tworzenie DataFrame\n",
    "df = pd.DataFrame(expanded_data)\n",
    "\n",
    "# Grupowanie danych i tworzenie tabeli przestawnej\n",
    "pivot_table = df.pivot_table(index=\"Location\", columns=\"AO_Type\", aggfunc=\"size\", fill_value=0)\n",
    "\n",
    "# Sortowanie wierszy według vertebra_order\n",
    "pivot_table = pivot_table.reindex(vertebra_order)\n",
    "\n",
    "# Tworzenie heatmapy\n",
    "plt.figure(figsize=(12, 8))\n",
    "sns.heatmap(pivot_table, annot=True, fmt=\"d\", cmap=\"YlGnBu\", cbar_kws={\"label\": \"Frequency\"})\n",
    "plt.xlabel(\"AO Type\")\n",
    "plt.ylabel(\"Location\")\n",
    "plt.tight_layout()\n",
    "plt.show()"
   ]
  }
 ],
 "metadata": {
  "kernelspec": {
   "display_name": ".venv",
   "language": "python",
   "name": "python3"
  },
  "language_info": {
   "codemirror_mode": {
    "name": "ipython",
    "version": 3
   },
   "file_extension": ".py",
   "mimetype": "text/x-python",
   "name": "python",
   "nbconvert_exporter": "python",
   "pygments_lexer": "ipython3",
   "version": "3.13.0"
  }
 },
 "nbformat": 4,
 "nbformat_minor": 2
}
